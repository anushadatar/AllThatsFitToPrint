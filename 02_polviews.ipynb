{
  "nbformat": 4,
  "nbformat_minor": 0,
  "metadata": {
    "kernelspec": {
      "display_name": "Python 3",
      "language": "python",
      "name": "python3"
    },
    "language_info": {
      "codemirror_mode": {
        "name": "ipython",
        "version": 3
      },
      "file_extension": ".py",
      "mimetype": "text/x-python",
      "name": "python",
      "nbconvert_exporter": "python",
      "pygments_lexer": "ipython3",
      "version": "3.7.6"
    },
    "colab": {
      "name": "02_polviews.ipynb",
      "provenance": [],
      "collapsed_sections": [],
      "include_colab_link": true
    }
  },
  "cells": [
    {
      "cell_type": "markdown",
      "metadata": {
        "id": "view-in-github",
        "colab_type": "text"
      },
      "source": [
        "<a href=\"https://colab.research.google.com/github/anushadatar/AllThatsFitToPrint/blob/master/02_polviews.ipynb\" target=\"_parent\"><img src=\"https://colab.research.google.com/assets/colab-badge.svg\" alt=\"Open In Colab\"/></a>"
      ]
    },
    {
      "cell_type": "markdown",
      "metadata": {
        "id": "yaoe68gc7wbi",
        "colab_type": "text"
      },
      "source": [
        "# Political Alignment Case Study\n",
        "\n",
        "Allen Downey\n",
        "\n",
        "[MIT License](https://en.wikipedia.org/wiki/MIT_License)"
      ]
    },
    {
      "cell_type": "markdown",
      "metadata": {
        "id": "QN_FAIU07wbl",
        "colab_type": "text"
      },
      "source": [
        "### Introduction\n",
        "\n",
        "This is the second in a series of notebooks that make up a case study in exploratory data analysis.\n",
        "\n",
        "In this notebook, we:\n",
        "\n",
        "1. Look at responses to the variable `polviews`, which represent political alignment on a 7-point scale from liberal to conservative.\n",
        "\n",
        "2. Compare the distribution of responses in 1974 and 1990.\n",
        "\n",
        "3. Plot the mean and standard deviation of responses over time as a way of quantifying changes in political alignment and polarization.\n",
        "\n",
        "4. Use local regression to plot a smooth line through noisy data.\n",
        "\n",
        "5. Use cross tabulation to compute the fraction of respondents in each category over time.\n",
        "\n",
        "6. Plot the results using a custom color palette.\n",
        "\n",
        "As an exercise, you will look at changes in political party affiliation over the same period."
      ]
    },
    {
      "cell_type": "markdown",
      "metadata": {
        "id": "2_ZFND7D7wbm",
        "colab_type": "text"
      },
      "source": [
        "### Setup\n",
        "\n",
        "If you are running this notebook in Colab, the following cell downloads the `empiricaldist` library.\n",
        "\n",
        "If you are running in another environment, you will need to install it yourself."
      ]
    },
    {
      "cell_type": "code",
      "metadata": {
        "id": "hkAuXUrl7wbn",
        "colab_type": "code",
        "colab": {
          "base_uri": "https://localhost:8080/",
          "height": 34
        },
        "outputId": "c40cb4f4-ddd7-486e-f050-a3b474c6467e"
      },
      "source": [
        "# If we're running in Colab, set up the environment\n",
        "\n",
        "import sys\n",
        "IN_COLAB = 'google.colab' in sys.modules\n",
        "\n",
        "if IN_COLAB:\n",
        "    !pip install empiricaldist"
      ],
      "execution_count": 13,
      "outputs": [
        {
          "output_type": "stream",
          "text": [
            "Requirement already satisfied: empiricaldist in /usr/local/lib/python3.6/dist-packages (0.3.4)\n"
          ],
          "name": "stdout"
        }
      ]
    },
    {
      "cell_type": "markdown",
      "metadata": {
        "id": "78HrMqvN7wbs",
        "colab_type": "text"
      },
      "source": [
        "If everything we need is installed, the following cell should run without error."
      ]
    },
    {
      "cell_type": "code",
      "metadata": {
        "id": "sDVOumSz7wbt",
        "colab_type": "code",
        "colab": {}
      },
      "source": [
        "import pandas as pd\n",
        "import numpy as np\n",
        "import matplotlib.pyplot as plt\n",
        "import seaborn as sns\n",
        "\n",
        "from empiricaldist import Pmf"
      ],
      "execution_count": 0,
      "outputs": []
    },
    {
      "cell_type": "markdown",
      "metadata": {
        "id": "wuEHjAFu7wbx",
        "colab_type": "text"
      },
      "source": [
        "The following cell defines a function I use to decorate the axes in plots."
      ]
    },
    {
      "cell_type": "code",
      "metadata": {
        "id": "Nt6eYRM37wby",
        "colab_type": "code",
        "colab": {}
      },
      "source": [
        "def decorate(**options):\n",
        "    \"\"\"Decorate the current axes.\n",
        "    Call decorate with keyword arguments like\n",
        "    decorate(title='Title',\n",
        "             xlabel='x',\n",
        "             ylabel='y')\n",
        "    The keyword arguments can be any of the axis properties\n",
        "    https://matplotlib.org/api/axes_api.html\n",
        "    \"\"\"\n",
        "    plt.gca().set(**options)\n",
        "    plt.tight_layout()"
      ],
      "execution_count": 0,
      "outputs": []
    },
    {
      "cell_type": "markdown",
      "metadata": {
        "id": "QGhCwuWR7wb1",
        "colab_type": "text"
      },
      "source": [
        "### Loading the data\n",
        "\n",
        "In the previous notebook, we downloaded GSS data, loaded and cleaned it, resampled it to correct for stratified sampling, and then saved the data in an HDF5 file, which is much faster to load.  In this and the following notebooks, we'll download the HDF5 file and load it.\n",
        "\n",
        "The following cell downloads the file."
      ]
    },
    {
      "cell_type": "code",
      "metadata": {
        "id": "Jnts8HcN7wb3",
        "colab_type": "code",
        "colab": {}
      },
      "source": [
        "# Load the data file\n",
        "\n",
        "import os\n",
        "\n",
        "datafile = 'gss_eda.3.hdf5'\n",
        "if not os.path.exists(datafile):\n",
        "    !wget https://github.com/AllenDowney/PoliticalAlignmentCaseStudy/raw/master/gss_eda.3.hdf5\n"
      ],
      "execution_count": 0,
      "outputs": []
    },
    {
      "cell_type": "markdown",
      "metadata": {
        "id": "3tpkzFU17wb7",
        "colab_type": "text"
      },
      "source": [
        "This file contains three DataFrames containing resamples of the GSS data.  We'll work with the first resampling, `gss0`, to get started; at the end of this notebook, we'll see the other two as well."
      ]
    },
    {
      "cell_type": "code",
      "metadata": {
        "id": "SPPX56V67wb8",
        "colab_type": "code",
        "colab": {
          "base_uri": "https://localhost:8080/",
          "height": 34
        },
        "outputId": "7e37a2ac-31e9-4e3e-8c12-1615539c211b"
      },
      "source": [
        "gss = pd.read_hdf(datafile, 'gss0')\n",
        "gss.shape"
      ],
      "execution_count": 17,
      "outputs": [
        {
          "output_type": "execute_result",
          "data": {
            "text/plain": [
              "(64814, 165)"
            ]
          },
          "metadata": {
            "tags": []
          },
          "execution_count": 17
        }
      ]
    },
    {
      "cell_type": "markdown",
      "metadata": {
        "id": "Z7LuIebO7wcA",
        "colab_type": "text"
      },
      "source": [
        "## Political alignment\n",
        "\n",
        "The people surveyed as part of the GSS were asked about their \"political alignment\", which is where they place themselves on a spectrum from liberal to conservative.\n",
        "\n",
        "The variable `polviews` contains responses to the [following question](https://gssdataexplorer.norc.org/projects/52787/variables/178/vshow):\n",
        "\n",
        "> We hear a lot of talk these days about liberals and conservatives. \n",
        "I'm going to show you a seven-point scale on which the political views that people might hold are arranged from extremely liberal--point 1--to extremely conservative--point 7. Where would you place yourself on this scale?"
      ]
    },
    {
      "cell_type": "markdown",
      "metadata": {
        "id": "636s6AUT7wcB",
        "colab_type": "text"
      },
      "source": [
        "Here are the valid responses:\n",
        "\n",
        "```\n",
        "1\tExtremely liberal\n",
        "2\tLiberal\n",
        "3\tSlightly liberal\n",
        "4\tModerate\n",
        "5\tSlightly conservative\n",
        "6\tConservative\n",
        "7\tExtremely conservative\n",
        "```\n",
        "\n",
        "To see how the responses have changed over time, we'll inspect them at the beginning and end of the observation period.\n",
        "\n",
        "First I'll select the column."
      ]
    },
    {
      "cell_type": "code",
      "metadata": {
        "id": "cg8ex8Ac7wcC",
        "colab_type": "code",
        "colab": {}
      },
      "source": [
        "polviews = gss['polviews']"
      ],
      "execution_count": 0,
      "outputs": []
    },
    {
      "cell_type": "markdown",
      "metadata": {
        "id": "I48hSuUP7wcF",
        "colab_type": "text"
      },
      "source": [
        "Then compute a Boolean Series that's `True` for responses from 1974."
      ]
    },
    {
      "cell_type": "code",
      "metadata": {
        "id": "bnSJyjzn7wcG",
        "colab_type": "code",
        "colab": {}
      },
      "source": [
        "year74 = (gss['year'] == 1974)"
      ],
      "execution_count": 0,
      "outputs": []
    },
    {
      "cell_type": "markdown",
      "metadata": {
        "id": "zkhWnhC27wcJ",
        "colab_type": "text"
      },
      "source": [
        "Now we can select the responses from 1974."
      ]
    },
    {
      "cell_type": "code",
      "metadata": {
        "id": "iziKgCUX7wcK",
        "colab_type": "code",
        "colab": {}
      },
      "source": [
        "polviews74 = polviews[year74]"
      ],
      "execution_count": 0,
      "outputs": []
    },
    {
      "cell_type": "markdown",
      "metadata": {
        "id": "xmsnt5pL7wcN",
        "colab_type": "text"
      },
      "source": [
        "As in the previous notebook, we'll use `values` to plot the values in the series and their frequencies."
      ]
    },
    {
      "cell_type": "code",
      "metadata": {
        "id": "Jeg4krxx7wcO",
        "colab_type": "code",
        "colab": {}
      },
      "source": [
        "def values(series):\n",
        "    \"\"\"Count the values and sort.\n",
        "    \n",
        "    series: pd.Series\n",
        "    \n",
        "    returns: series mapping from values to frequencies\n",
        "    \"\"\"\n",
        "    return series.value_counts().sort_index()"
      ],
      "execution_count": 0,
      "outputs": []
    },
    {
      "cell_type": "markdown",
      "metadata": {
        "id": "6X18_W1f7wcS",
        "colab_type": "text"
      },
      "source": [
        "Here are the responses from 1974."
      ]
    },
    {
      "cell_type": "code",
      "metadata": {
        "id": "mskv2tAw7wcT",
        "colab_type": "code",
        "colab": {
          "base_uri": "https://localhost:8080/",
          "height": 151
        },
        "outputId": "3a2f3f07-0bb0-4fcf-d24f-db78292c4611"
      },
      "source": [
        "values(polviews74)"
      ],
      "execution_count": 22,
      "outputs": [
        {
          "output_type": "execute_result",
          "data": {
            "text/plain": [
              "1.0     31\n",
              "2.0    201\n",
              "3.0    211\n",
              "4.0    538\n",
              "5.0    223\n",
              "6.0    181\n",
              "7.0     30\n",
              "Name: polviews, dtype: int64"
            ]
          },
          "metadata": {
            "tags": []
          },
          "execution_count": 22
        }
      ]
    },
    {
      "cell_type": "markdown",
      "metadata": {
        "id": "5Plf49137wcW",
        "colab_type": "text"
      },
      "source": [
        "And here are the responses from 2018."
      ]
    },
    {
      "cell_type": "code",
      "metadata": {
        "id": "bn2Ii2tQ7wcX",
        "colab_type": "code",
        "colab": {
          "base_uri": "https://localhost:8080/",
          "height": 151
        },
        "outputId": "20e5ed5b-9338-47c6-d40a-9398c612365b"
      },
      "source": [
        "year18 = (gss['year'] == 2018)\n",
        "polviews18 = polviews[year18]\n",
        "values(polviews18)"
      ],
      "execution_count": 23,
      "outputs": [
        {
          "output_type": "execute_result",
          "data": {
            "text/plain": [
              "1.0     89\n",
              "2.0    269\n",
              "3.0    265\n",
              "4.0    891\n",
              "5.0    310\n",
              "6.0    342\n",
              "7.0     92\n",
              "Name: polviews, dtype: int64"
            ]
          },
          "metadata": {
            "tags": []
          },
          "execution_count": 23
        }
      ]
    },
    {
      "cell_type": "markdown",
      "metadata": {
        "id": "ueHC9h627wcb",
        "colab_type": "text"
      },
      "source": [
        "## PMFs\n",
        "\n",
        "To visualize these distributions, we'll use the Probability Mass Function (PMF), which is similar to a histogram.  The difference is that the PMF is \"normalized\", which means that it shows the percentage of people who gave each response, rather than the number.\n",
        "\n",
        "I use the `Pmf` class from `empiricaldist` to compute them."
      ]
    },
    {
      "cell_type": "code",
      "metadata": {
        "id": "iqChFPZn7wcc",
        "colab_type": "code",
        "colab": {}
      },
      "source": [
        "from empiricaldist import Pmf"
      ],
      "execution_count": 0,
      "outputs": []
    },
    {
      "cell_type": "markdown",
      "metadata": {
        "id": "XaukFBqg7wcf",
        "colab_type": "text"
      },
      "source": [
        "Here's the distribution from 1974:"
      ]
    },
    {
      "cell_type": "code",
      "metadata": {
        "id": "EHO5sDLe7wcg",
        "colab_type": "code",
        "colab": {
          "base_uri": "https://localhost:8080/",
          "height": 297
        },
        "outputId": "aea21e52-a50f-4314-82a7-402efa5199d8"
      },
      "source": [
        "pmf74 = Pmf.from_seq(polviews74)\n",
        "pmf74.bar(label='1974', color='C0', alpha=0.7)\n",
        "\n",
        "decorate(xlabel='Political view on a 7-point scale',\n",
        "         ylabel='Fraction of population',\n",
        "         title='Distribution of political views')\n",
        "\n",
        "plt.legend();"
      ],
      "execution_count": 29,
      "outputs": [
        {
          "output_type": "display_data",
          "data": {
            "image/png": "[encoded data removed]",
            "text/plain": [
              "<Figure size 432x288 with 1 Axes>"
            ]
          },
          "metadata": {
            "tags": []
          }
        }
      ]
    },
    {
      "cell_type": "markdown",
      "metadata": {
        "id": "kCXs7TqR7wcj",
        "colab_type": "text"
      },
      "source": [
        "Here's the distribution from 1974:"
      ]
    },
    {
      "cell_type": "code",
      "metadata": {
        "id": "KKzRynUT7wck",
        "colab_type": "code",
        "colab": {
          "base_uri": "https://localhost:8080/",
          "height": 297
        },
        "outputId": "33c99186-648f-4432-c4bb-7f5d50f730f9"
      },
      "source": [
        "pmf18 = Pmf.from_seq(polviews18)\n",
        "pmf18.bar(label='2018', color='C1', alpha=0.7)\n",
        "\n",
        "decorate(xlabel='Political view on a 7-point scale',\n",
        "         ylabel='Fraction of population',\n",
        "         title='Distribution of political views')\n",
        "\n",
        "plt.legend();"
      ],
      "execution_count": 30,
      "outputs": [
        {
          "output_type": "display_data",
          "data": {
            "image/png": "[encoded data removed]",
            "text/plain": [
              "<Figure size 432x288 with 1 Axes>"
            ]
          },
          "metadata": {
            "tags": []
          }
        }
      ]
    },
    {
      "cell_type": "markdown",
      "metadata": {
        "id": "9u_A1wJq7wco",
        "colab_type": "text"
      },
      "source": [
        "In both cases, the most common response is `4`, which is the code for \"moderate\".  And few respondents describe themselves as \"extremely\" liberal or conservative.\n",
        "\n",
        "So maybe we're not so polarized after all.\n",
        "\n",
        "To make it easier to compare the distributions, I'll plot them side by side.  "
      ]
    },
    {
      "cell_type": "code",
      "metadata": {
        "id": "WG19VVLd7wcp",
        "colab_type": "code",
        "colab": {
          "base_uri": "https://localhost:8080/",
          "height": 297
        },
        "outputId": "54725f45-f43b-44d4-93bc-a6e9806abeb0"
      },
      "source": [
        "pmf74.bar(label='1974', width=-0.45, align='edge', alpha=0.7)\n",
        "\n",
        "pmf18.bar(label='2018', width=0.45, align='edge', alpha=0.7)\n",
        "\n",
        "decorate(xlabel='Political view on a 7-point scale',\n",
        "         ylabel='Fraction of population',\n",
        "         title='Distribution of political views')\n",
        "\n",
        "plt.legend();"
      ],
      "execution_count": 31,
      "outputs": [
        {
          "output_type": "display_data",
          "data": {
            "image/png": "[encoded data removed]",
            "text/plain": [
              "<Figure size 432x288 with 1 Axes>"
            ]
          },
          "metadata": {
            "tags": []
          }
        }
      ]
    },
    {
      "cell_type": "markdown",
      "metadata": {
        "id": "rXgtw9bw7wcs",
        "colab_type": "text"
      },
      "source": [
        "Now we can see the changes in the distribution more clearly.  It looks like the number of people at the extremes (1 and 7) has increased, and the fraction of liberal (2) and slightly liberal (3) has decreased."
      ]
    },
    {
      "cell_type": "markdown",
      "metadata": {
        "id": "ICBHouU97wct",
        "colab_type": "text"
      },
      "source": [
        "**Exercise:** To summarize these changes, we can compare the mean and standard deviation of `polviews` in 1974 and 2018.\n",
        "\n",
        "The mean of the responses measures the balance of people in the population with liberal or conservative leanings.  If the mean increases over time, that might indicate a shift in the population toward conservatism.\n",
        "\n",
        "The standard deviation measures the dispersion of views in the population; if it increases over time, that might indicate an increase in polarization.\n",
        "\n",
        "Compute the mean and standard deviation of `polviews74` and `polviews18`.\n",
        "\n",
        "What do they indicate about changes over this interval?"
      ]
    },
    {
      "cell_type": "code",
      "metadata": {
        "id": "VinuDvU97wcu",
        "colab_type": "code",
        "colab": {
          "base_uri": "https://localhost:8080/",
          "height": 50
        },
        "outputId": "ec25a0fb-6701-49ab-c2e4-2c6e83b44b39"
      },
      "source": [
        "# Solution goes here\n",
        "print(polviews74.mean())\n",
        "polviews74.std()"
      ],
      "execution_count": 37,
      "outputs": [
        {
          "output_type": "stream",
          "text": [
            "3.9780919551849365\n"
          ],
          "name": "stdout"
        },
        {
          "output_type": "execute_result",
          "data": {
            "text/plain": [
              "1.3324159383773804"
            ]
          },
          "metadata": {
            "tags": []
          },
          "execution_count": 37
        }
      ]
    },
    {
      "cell_type": "code",
      "metadata": {
        "id": "_wcGT38X7wcy",
        "colab_type": "code",
        "colab": {
          "base_uri": "https://localhost:8080/",
          "height": 50
        },
        "outputId": "25ba9515-7a7a-41fb-8dc0-2c5701fbf792"
      },
      "source": [
        "# Solution goes here\n",
        "print(polviews18.mean())\n",
        "polviews18.std()"
      ],
      "execution_count": 38,
      "outputs": [
        {
          "output_type": "stream",
          "text": [
            "4.088573932647705\n"
          ],
          "name": "stdout"
        },
        {
          "output_type": "execute_result",
          "data": {
            "text/plain": [
              "1.4323114156723022"
            ]
          },
          "metadata": {
            "tags": []
          },
          "execution_count": 38
        }
      ]
    },
    {
      "cell_type": "code",
      "metadata": {
        "id": "yZw8W5tK7wc0",
        "colab_type": "code",
        "colab": {}
      },
      "source": [
        "# Solution goes here\n",
        "# This suggests tahat there is an increase i polarization and that there is a shift towards conservativism. "
      ],
      "execution_count": 0,
      "outputs": []
    },
    {
      "cell_type": "markdown",
      "metadata": {
        "id": "pCdm9L5b7wc3",
        "colab_type": "text"
      },
      "source": [
        "## Time series\n",
        "\n",
        "At this point we have looked at the endpoints, 1974 and 2018, but we don't know what happened in between.\n",
        "\n",
        "To see how the distribution changes over time, we can group by year and compute the mean of `polviews` during each year.\n",
        "\n",
        "First I'll use `groupby` to group the respondents by year."
      ]
    },
    {
      "cell_type": "code",
      "metadata": {
        "id": "csoWJIdV7wc4",
        "colab_type": "code",
        "colab": {
          "base_uri": "https://localhost:8080/",
          "height": 34
        },
        "outputId": "69ae98fd-d604-47b8-b232-c6174394d8de"
      },
      "source": [
        "gss_by_year = gss.groupby('year')\n",
        "gss_by_year"
      ],
      "execution_count": 40,
      "outputs": [
        {
          "output_type": "execute_result",
          "data": {
            "text/plain": [
              "<pandas.core.groupby.generic.DataFrameGroupBy object at 0x7f241ec832b0>"
            ]
          },
          "metadata": {
            "tags": []
          },
          "execution_count": 40
        }
      ]
    },
    {
      "cell_type": "markdown",
      "metadata": {
        "id": "MeMUffWm7wc6",
        "colab_type": "text"
      },
      "source": [
        "The result is a `DataFrameGroupBy` value that represents a collection of groups.  We can loop through the groups and display the number of respondents in each:"
      ]
    },
    {
      "cell_type": "code",
      "metadata": {
        "id": "KbD-aNOI7wc7",
        "colab_type": "code",
        "colab": {
          "base_uri": "https://localhost:8080/",
          "height": 554
        },
        "outputId": "1a757964-8e69-450b-f18f-6e7d701e0235"
      },
      "source": [
        "for year, group in gss_by_year:\n",
        "    print(year, len(group))"
      ],
      "execution_count": 41,
      "outputs": [
        {
          "output_type": "stream",
          "text": [
            "1972 1613\n",
            "1973 1504\n",
            "1974 1484\n",
            "1975 1490\n",
            "1976 1499\n",
            "1977 1530\n",
            "1978 1532\n",
            "1980 1468\n",
            "1982 1860\n",
            "1983 1599\n",
            "1984 1473\n",
            "1985 1534\n",
            "1986 1470\n",
            "1987 1819\n",
            "1988 1481\n",
            "1989 1537\n",
            "1990 1372\n",
            "1991 1517\n",
            "1993 1606\n",
            "1994 2992\n",
            "1996 2904\n",
            "1998 2832\n",
            "2000 2817\n",
            "2002 2765\n",
            "2004 2812\n",
            "2006 4510\n",
            "2008 2023\n",
            "2010 2044\n",
            "2012 1974\n",
            "2014 2538\n",
            "2016 2867\n",
            "2018 2348\n"
          ],
          "name": "stdout"
        }
      ]
    },
    {
      "cell_type": "markdown",
      "metadata": {
        "id": "0-LBGvaA7wc-",
        "colab_type": "text"
      },
      "source": [
        "In many ways the `DataFrameGroupBy` behaves like a DataFrame.  We can use the bracket operator to select a column: "
      ]
    },
    {
      "cell_type": "code",
      "metadata": {
        "id": "cIj_Pvlc7wdG",
        "colab_type": "code",
        "colab": {
          "base_uri": "https://localhost:8080/",
          "height": 34
        },
        "outputId": "6653f6df-8296-4ffc-9edc-24d15d1a59f1"
      },
      "source": [
        "polviews_by_year = gss_by_year['polviews']\n",
        "polviews_by_year"
      ],
      "execution_count": 42,
      "outputs": [
        {
          "output_type": "execute_result",
          "data": {
            "text/plain": [
              "<pandas.core.groupby.generic.SeriesGroupBy object at 0x7f241ec83128>"
            ]
          },
          "metadata": {
            "tags": []
          },
          "execution_count": 42
        }
      ]
    },
    {
      "cell_type": "markdown",
      "metadata": {
        "id": "pb0AcThg7wdL",
        "colab_type": "text"
      },
      "source": [
        "A column from a `DataFrameGroupBy` is a `SeriesGroupBy`.  If we invoke `mean` on it, the results is a series that contains the mean of `polviews` for each year of the survey."
      ]
    },
    {
      "cell_type": "code",
      "metadata": {
        "id": "UhZpg5rp7wdM",
        "colab_type": "code",
        "colab": {}
      },
      "source": [
        "mean_series = polviews_by_year.mean()"
      ],
      "execution_count": 0,
      "outputs": []
    },
    {
      "cell_type": "markdown",
      "metadata": {
        "id": "j0UGR7JA7wdQ",
        "colab_type": "text"
      },
      "source": [
        "And here's what it looks like."
      ]
    },
    {
      "cell_type": "code",
      "metadata": {
        "id": "1Ub_elUZ7wdR",
        "colab_type": "code",
        "colab": {
          "base_uri": "https://localhost:8080/",
          "height": 297
        },
        "outputId": "cc9a4b83-ec95-4938-82cd-eb592e2044ce"
      },
      "source": [
        "mean_series.plot(color='C2', label='polviews')\n",
        "decorate(xlabel='Year', \n",
        "         ylabel='Mean (7 point scale)',\n",
        "         title='Mean of polviews')"
      ],
      "execution_count": 44,
      "outputs": [
        {
          "output_type": "display_data",
          "data": {
            "image/png": "[encoded data removed]",
            "text/plain": [
              "<Figure size 432x288 with 1 Axes>"
            ]
          },
          "metadata": {
            "tags": []
          }
        }
      ]
    },
    {
      "cell_type": "markdown",
      "metadata": {
        "id": "CXU16zAx7wdW",
        "colab_type": "text"
      },
      "source": [
        "**Exercise:** The standard deviation quantifies the spread of the distribution, which is one way to measure polarization.\n",
        "\n",
        "Plot standard deviation of `polviews` for each year of the survey from 1972 to 2018.\n",
        "\n",
        "Does it show evidence of increasing polarization?"
      ]
    },
    {
      "cell_type": "code",
      "metadata": {
        "id": "_FswC5tk7wdY",
        "colab_type": "code",
        "colab": {
          "base_uri": "https://localhost:8080/",
          "height": 297
        },
        "outputId": "2f351fbf-d141-4a40-aac6-1f2d0607a3fc"
      },
      "source": [
        "# Solution goes here\n",
        "std_series = polviews_by_year.std()\n",
        "std_series.plot(color='C2', label='polviews')\n",
        "decorate(xlabel='Year', \n",
        "         ylabel='Standard Deviation (7 point scale)',\n",
        "         title='Standard Deviation of polviews')\n",
        "# Yes, it does show increasing polarization. "
      ],
      "execution_count": 52,
      "outputs": [
        {
          "output_type": "display_data",
          "data": {
            "image/png": "[encoded data removed]",
            "text/plain": [
              "<Figure size 432x288 with 1 Axes>"
            ]
          },
          "metadata": {
            "tags": []
          }
        }
      ]
    },
    {
      "cell_type": "markdown",
      "metadata": {
        "id": "y6CFiESy7wdc",
        "colab_type": "text"
      },
      "source": [
        "### Local regression\n",
        "\n",
        "In the previous section we plotted mean and standard deviation of `polviews` over time.  Both plots are quite noisy.\n",
        "\n",
        "We can use [local regression](https://en.wikipedia.org/wiki/Local_regression) to compute a smooth line through these data points.  \n",
        "\n",
        "The following function takes a Pandas Series and uses and algorithm called LOWESS to compute a smooth line.  LOWESS stands for \"locally weighted scatterplot smoothing\"."
      ]
    },
    {
      "cell_type": "code",
      "metadata": {
        "id": "DQBmnNZN7wdd",
        "colab_type": "code",
        "colab": {}
      },
      "source": [
        "from statsmodels.nonparametric.smoothers_lowess import lowess\n",
        "\n",
        "def make_lowess(series):\n",
        "    \"\"\"Use LOWESS to compute a smooth line.\n",
        "    \n",
        "    series: pd.Series\n",
        "    \n",
        "    returns: pd.Series\n",
        "    \"\"\"\n",
        "    y = series.values\n",
        "    x = series.index.values\n",
        "\n",
        "    smooth = lowess(y, x)\n",
        "    index, data = np.transpose(smooth)\n",
        "\n",
        "    return pd.Series(data, index=index) "
      ],
      "execution_count": 0,
      "outputs": []
    },
    {
      "cell_type": "markdown",
      "metadata": {
        "id": "EUzzunIi7wdg",
        "colab_type": "text"
      },
      "source": [
        "We'll use the following function to plot data points and the smoothed line."
      ]
    },
    {
      "cell_type": "code",
      "metadata": {
        "id": "l_F7bzxf7wdh",
        "colab_type": "code",
        "colab": {}
      },
      "source": [
        "def plot_series_lowess(series, color):\n",
        "    \"\"\"Plots a series of data points and a smooth line.\n",
        "    \n",
        "    series: pd.Series\n",
        "    color: string or tuple\n",
        "    \"\"\"\n",
        "    series.plot(linewidth=0, marker='o', color=color, alpha=0.5)\n",
        "    smooth = make_lowess(series)\n",
        "    smooth.plot(label='_', color=color)"
      ],
      "execution_count": 0,
      "outputs": []
    },
    {
      "cell_type": "markdown",
      "metadata": {
        "id": "sKA4U5597wdl",
        "colab_type": "text"
      },
      "source": [
        "The following figure shows the mean of `polviews` and a smooth line."
      ]
    },
    {
      "cell_type": "code",
      "metadata": {
        "id": "n9Pxl8ZV7wdm",
        "colab_type": "code",
        "colab": {
          "base_uri": "https://localhost:8080/",
          "height": 297
        },
        "outputId": "9b207568-efe8-43af-eaf0-b74e19004dae"
      },
      "source": [
        "mean_series = gss_by_year['polviews'].mean()\n",
        "plot_series_lowess(mean_series, 'C2')\n",
        "decorate(ylabel='Mean (7 point scale)',\n",
        "         title='Mean of polviews',\n",
        "         xlabel='Year',\n",
        "         xlim=[1972, 2020])"
      ],
      "execution_count": 55,
      "outputs": [
        {
          "output_type": "display_data",
          "data": {
            "image/png": "[encoded data removed]",
            "text/plain": [
              "<Figure size 432x288 with 1 Axes>"
            ]
          },
          "metadata": {
            "tags": []
          }
        }
      ]
    },
    {
      "cell_type": "markdown",
      "metadata": {
        "id": "nCCKeOnB7wdo",
        "colab_type": "text"
      },
      "source": [
        "One reason the PMFs for 1974 and 2018 did not look very different is that the mean seems to have gone up (more conservative) and then down again (more liberal).\n",
        "\n",
        "Generally, it looks like the U.S. has been trending toward liberal for the last 20 years, or more, at least in the sense of how people describe themselves."
      ]
    },
    {
      "cell_type": "markdown",
      "metadata": {
        "id": "nYCFOItb7wdp",
        "colab_type": "text"
      },
      "source": [
        "**Exercise:** Use `plot_series_lowess` to plot the standard deviation of `polviews` with a smooth line."
      ]
    },
    {
      "cell_type": "code",
      "metadata": {
        "id": "IDkTLkji7wdq",
        "colab_type": "code",
        "colab": {
          "base_uri": "https://localhost:8080/",
          "height": 297
        },
        "outputId": "bd14cb60-8abb-43f3-a874-4d08452ceced"
      },
      "source": [
        "# Solution goes here\n",
        "std_series = gss_by_year['polviews'].std()\n",
        "plot_series_lowess(std_series, 'C2')\n",
        "decorate(ylabel='Standard Deviation (7 point scale)',\n",
        "         title='Standard Deviation of polviews',\n",
        "         xlabel='Year',\n",
        "         xlim=[1972, 2020])"
      ],
      "execution_count": 56,
      "outputs": [
        {
          "output_type": "display_data",
          "data": {
            "image/png": "[encoded data removed]",
            "text/plain": [
              "<Figure size 432x288 with 1 Axes>"
            ]
          },
          "metadata": {
            "tags": []
          }
        }
      ]
    },
    {
      "cell_type": "markdown",
      "metadata": {
        "id": "eUhqShrC7wdt",
        "colab_type": "text"
      },
      "source": [
        "## Cross tabulation\n",
        "\n",
        "In the previous sections, we treated `polviews` as a numerical quantity, so we were able to compute means and standard deviations.\n",
        "\n",
        "But the responses are really categorical, which means that each value represents a discrete category, like \"liberal\" or \"conservative\".  \n",
        "\n",
        "In this section, we'll treat `polviews` as a categorical variable.  Specifically, we'll compute the number of respondents in each category for each year, and plot changes over time.\n",
        "\n",
        "Pandas provides a function called `crosstab` that computes a [cross tabulation](https://en.wikipedia.org/wiki/Contingency_table).\n",
        "\n",
        "It takes two Series as arguments and returns a DataFrame."
      ]
    },
    {
      "cell_type": "code",
      "metadata": {
        "id": "RFln_SGt7wdu",
        "colab_type": "code",
        "colab": {}
      },
      "source": [
        "year = gss['year']\n",
        "column = gss['polviews']\n",
        "\n",
        "xtab = pd.crosstab(year, column)"
      ],
      "execution_count": 0,
      "outputs": []
    },
    {
      "cell_type": "markdown",
      "metadata": {
        "id": "AlczMRrt7wdx",
        "colab_type": "text"
      },
      "source": [
        "Here are the first few lines from the result."
      ]
    },
    {
      "cell_type": "code",
      "metadata": {
        "id": "gzLDuwK_7wdy",
        "colab_type": "code",
        "colab": {
          "base_uri": "https://localhost:8080/",
          "height": 225
        },
        "outputId": "4bbb8966-53bf-42bf-cbd2-cb7771d4ae9b"
      },
      "source": [
        "xtab.head()"
      ],
      "execution_count": 58,
      "outputs": [
        {
          "output_type": "execute_result",
          "data": {
            "text/html": [
              "<div>\n",
              "<style scoped>\n",
              "    .dataframe tbody tr th:only-of-type {\n",
              "        vertical-align: middle;\n",
              "    }\n",
              "\n",
              "    .dataframe tbody tr th {\n",
              "        vertical-align: top;\n",
              "    }\n",
              "\n",
              "    .dataframe thead th {\n",
              "        text-align: right;\n",
              "    }\n",
              "</style>\n",
              "<table border=\"1\" class=\"dataframe\">\n",
              "  <thead>\n",
              "    <tr style=\"text-align: right;\">\n",
              "      <th>polviews</th>\n",
              "      <th>1.0</th>\n",
              "      <th>2.0</th>\n",
              "      <th>3.0</th>\n",
              "      <th>4.0</th>\n",
              "      <th>5.0</th>\n",
              "      <th>6.0</th>\n",
              "      <th>7.0</th>\n",
              "    </tr>\n",
              "    <tr>\n",
              "      <th>year</th>\n",
              "      <th></th>\n",
              "      <th></th>\n",
              "      <th></th>\n",
              "      <th></th>\n",
              "      <th></th>\n",
              "      <th></th>\n",
              "      <th></th>\n",
              "    </tr>\n",
              "  </thead>\n",
              "  <tbody>\n",
              "    <tr>\n",
              "      <th>1974</th>\n",
              "      <td>31</td>\n",
              "      <td>201</td>\n",
              "      <td>211</td>\n",
              "      <td>538</td>\n",
              "      <td>223</td>\n",
              "      <td>181</td>\n",
              "      <td>30</td>\n",
              "    </tr>\n",
              "    <tr>\n",
              "      <th>1975</th>\n",
              "      <td>56</td>\n",
              "      <td>184</td>\n",
              "      <td>207</td>\n",
              "      <td>540</td>\n",
              "      <td>204</td>\n",
              "      <td>162</td>\n",
              "      <td>45</td>\n",
              "    </tr>\n",
              "    <tr>\n",
              "      <th>1976</th>\n",
              "      <td>31</td>\n",
              "      <td>198</td>\n",
              "      <td>175</td>\n",
              "      <td>564</td>\n",
              "      <td>209</td>\n",
              "      <td>206</td>\n",
              "      <td>34</td>\n",
              "    </tr>\n",
              "    <tr>\n",
              "      <th>1977</th>\n",
              "      <td>37</td>\n",
              "      <td>181</td>\n",
              "      <td>214</td>\n",
              "      <td>594</td>\n",
              "      <td>243</td>\n",
              "      <td>164</td>\n",
              "      <td>42</td>\n",
              "    </tr>\n",
              "    <tr>\n",
              "      <th>1978</th>\n",
              "      <td>21</td>\n",
              "      <td>140</td>\n",
              "      <td>255</td>\n",
              "      <td>559</td>\n",
              "      <td>265</td>\n",
              "      <td>187</td>\n",
              "      <td>25</td>\n",
              "    </tr>\n",
              "  </tbody>\n",
              "</table>\n",
              "</div>"
            ],
            "text/plain": [
              "polviews  1.0  2.0  3.0  4.0  5.0  6.0  7.0\n",
              "year                                       \n",
              "1974       31  201  211  538  223  181   30\n",
              "1975       56  184  207  540  204  162   45\n",
              "1976       31  198  175  564  209  206   34\n",
              "1977       37  181  214  594  243  164   42\n",
              "1978       21  140  255  559  265  187   25"
            ]
          },
          "metadata": {
            "tags": []
          },
          "execution_count": 58
        }
      ]
    },
    {
      "cell_type": "markdown",
      "metadata": {
        "id": "gq1CFmc47wd1",
        "colab_type": "text"
      },
      "source": [
        "It contains one row for each value of `year` and one column for each value of `polviews`.  Reading the first row, we see that in 1974, 31 people gave response 1, \"extremely liberal\", 201 people gave response 2, \"liberal\", and so on.\n",
        "\n",
        "The number of respondents varies from year to year, so we need to \"normalize\" the results, which means computing for each year the *fraction* of respondents in each category, rather than the count.\n",
        "\n",
        "`crosstab` takes an optional argument that normalizes each row."
      ]
    },
    {
      "cell_type": "code",
      "metadata": {
        "id": "s9fVboAR7wd3",
        "colab_type": "code",
        "colab": {}
      },
      "source": [
        "xtab_norm = pd.crosstab(year, column, normalize='index')"
      ],
      "execution_count": 0,
      "outputs": []
    },
    {
      "cell_type": "markdown",
      "metadata": {
        "id": "wUeQOQps7wd9",
        "colab_type": "text"
      },
      "source": [
        "Here's what that looks like for the 7-point scale."
      ]
    },
    {
      "cell_type": "code",
      "metadata": {
        "id": "4x51BEa77wd-",
        "colab_type": "code",
        "colab": {
          "base_uri": "https://localhost:8080/",
          "height": 225
        },
        "outputId": "a1e8cefd-2ee7-4ab9-d6a6-f17bc376e5ee"
      },
      "source": [
        "xtab_norm.head()"
      ],
      "execution_count": 60,
      "outputs": [
        {
          "output_type": "execute_result",
          "data": {
            "text/html": [
              "<div>\n",
              "<style scoped>\n",
              "    .dataframe tbody tr th:only-of-type {\n",
              "        vertical-align: middle;\n",
              "    }\n",
              "\n",
              "    .dataframe tbody tr th {\n",
              "        vertical-align: top;\n",
              "    }\n",
              "\n",
              "    .dataframe thead th {\n",
              "        text-align: right;\n",
              "    }\n",
              "</style>\n",
              "<table border=\"1\" class=\"dataframe\">\n",
              "  <thead>\n",
              "    <tr style=\"text-align: right;\">\n",
              "      <th>polviews</th>\n",
              "      <th>1.0</th>\n",
              "      <th>2.0</th>\n",
              "      <th>3.0</th>\n",
              "      <th>4.0</th>\n",
              "      <th>5.0</th>\n",
              "      <th>6.0</th>\n",
              "      <th>7.0</th>\n",
              "    </tr>\n",
              "    <tr>\n",
              "      <th>year</th>\n",
              "      <th></th>\n",
              "      <th></th>\n",
              "      <th></th>\n",
              "      <th></th>\n",
              "      <th></th>\n",
              "      <th></th>\n",
              "      <th></th>\n",
              "    </tr>\n",
              "  </thead>\n",
              "  <tbody>\n",
              "    <tr>\n",
              "      <th>1974</th>\n",
              "      <td>0.021908</td>\n",
              "      <td>0.142049</td>\n",
              "      <td>0.149117</td>\n",
              "      <td>0.380212</td>\n",
              "      <td>0.157597</td>\n",
              "      <td>0.127915</td>\n",
              "      <td>0.021201</td>\n",
              "    </tr>\n",
              "    <tr>\n",
              "      <th>1975</th>\n",
              "      <td>0.040057</td>\n",
              "      <td>0.131617</td>\n",
              "      <td>0.148069</td>\n",
              "      <td>0.386266</td>\n",
              "      <td>0.145923</td>\n",
              "      <td>0.115880</td>\n",
              "      <td>0.032189</td>\n",
              "    </tr>\n",
              "    <tr>\n",
              "      <th>1976</th>\n",
              "      <td>0.021877</td>\n",
              "      <td>0.139732</td>\n",
              "      <td>0.123500</td>\n",
              "      <td>0.398024</td>\n",
              "      <td>0.147495</td>\n",
              "      <td>0.145378</td>\n",
              "      <td>0.023994</td>\n",
              "    </tr>\n",
              "    <tr>\n",
              "      <th>1977</th>\n",
              "      <td>0.025085</td>\n",
              "      <td>0.122712</td>\n",
              "      <td>0.145085</td>\n",
              "      <td>0.402712</td>\n",
              "      <td>0.164746</td>\n",
              "      <td>0.111186</td>\n",
              "      <td>0.028475</td>\n",
              "    </tr>\n",
              "    <tr>\n",
              "      <th>1978</th>\n",
              "      <td>0.014463</td>\n",
              "      <td>0.096419</td>\n",
              "      <td>0.175620</td>\n",
              "      <td>0.384986</td>\n",
              "      <td>0.182507</td>\n",
              "      <td>0.128788</td>\n",
              "      <td>0.017218</td>\n",
              "    </tr>\n",
              "  </tbody>\n",
              "</table>\n",
              "</div>"
            ],
            "text/plain": [
              "polviews       1.0       2.0       3.0       4.0       5.0       6.0       7.0\n",
              "year                                                                          \n",
              "1974      0.021908  0.142049  0.149117  0.380212  0.157597  0.127915  0.021201\n",
              "1975      0.040057  0.131617  0.148069  0.386266  0.145923  0.115880  0.032189\n",
              "1976      0.021877  0.139732  0.123500  0.398024  0.147495  0.145378  0.023994\n",
              "1977      0.025085  0.122712  0.145085  0.402712  0.164746  0.111186  0.028475\n",
              "1978      0.014463  0.096419  0.175620  0.384986  0.182507  0.128788  0.017218"
            ]
          },
          "metadata": {
            "tags": []
          },
          "execution_count": 60
        }
      ]
    },
    {
      "cell_type": "markdown",
      "metadata": {
        "id": "6cn7P8wv7weC",
        "colab_type": "text"
      },
      "source": [
        "To make the results easier to interpret, I'm going to replace the numeric codes 1-7 with strings.  First I'll make a dictionary that maps from numbers to strings:"
      ]
    },
    {
      "cell_type": "code",
      "metadata": {
        "id": "T-2-92MW7weD",
        "colab_type": "code",
        "colab": {}
      },
      "source": [
        "# recode the 7 point scale with words\n",
        "d7 = {1: 'Extremely liberal', \n",
        "      2: 'Liberal', \n",
        "      3: 'Slightly liberal', \n",
        "      4: 'Moderate', \n",
        "      5: 'Slightly conservative', \n",
        "      6: 'Conservative', \n",
        "      7: 'Extremely conservative'}"
      ],
      "execution_count": 0,
      "outputs": []
    },
    {
      "cell_type": "markdown",
      "metadata": {
        "id": "ZZX4wT8_7weI",
        "colab_type": "text"
      },
      "source": [
        "Then we can use the `replace` function like this:"
      ]
    },
    {
      "cell_type": "code",
      "metadata": {
        "id": "9PiR6yJ07weJ",
        "colab_type": "code",
        "colab": {}
      },
      "source": [
        "polviews7 = gss['polviews'].replace(d7)"
      ],
      "execution_count": 0,
      "outputs": []
    },
    {
      "cell_type": "markdown",
      "metadata": {
        "id": "jwXETM8R7weM",
        "colab_type": "text"
      },
      "source": [
        "We can use `values` to confirm that the values in `polviews7` are strings."
      ]
    },
    {
      "cell_type": "code",
      "metadata": {
        "id": "Sa4IZqnQ7weN",
        "colab_type": "code",
        "colab": {
          "base_uri": "https://localhost:8080/",
          "height": 151
        },
        "outputId": "4d333fcf-b615-45b7-9f10-02969433604f"
      },
      "source": [
        "values(polviews7)"
      ],
      "execution_count": 63,
      "outputs": [
        {
          "output_type": "execute_result",
          "data": {
            "text/plain": [
              "Conservative               8495\n",
              "Extremely conservative     1770\n",
              "Extremely liberal          1699\n",
              "Liberal                    6299\n",
              "Moderate                  21444\n",
              "Slightly conservative      8864\n",
              "Slightly liberal           6981\n",
              "Name: polviews, dtype: int64"
            ]
          },
          "metadata": {
            "tags": []
          },
          "execution_count": 63
        }
      ]
    },
    {
      "cell_type": "markdown",
      "metadata": {
        "id": "fuEDM43p7weQ",
        "colab_type": "text"
      },
      "source": [
        "If we make the cross tabulation again, we can see that the column names are strings."
      ]
    },
    {
      "cell_type": "code",
      "metadata": {
        "id": "q1zJCC_p7weR",
        "colab_type": "code",
        "colab": {
          "base_uri": "https://localhost:8080/",
          "height": 225
        },
        "outputId": "56420ae1-40b0-4002-93de-d7d2625fd7a3"
      },
      "source": [
        "xtab_norm = pd.crosstab(year, polviews7, normalize='index')\n",
        "xtab_norm.head()"
      ],
      "execution_count": 64,
      "outputs": [
        {
          "output_type": "execute_result",
          "data": {
            "text/html": [
              "<div>\n",
              "<style scoped>\n",
              "    .dataframe tbody tr th:only-of-type {\n",
              "        vertical-align: middle;\n",
              "    }\n",
              "\n",
              "    .dataframe tbody tr th {\n",
              "        vertical-align: top;\n",
              "    }\n",
              "\n",
              "    .dataframe thead th {\n",
              "        text-align: right;\n",
              "    }\n",
              "</style>\n",
              "<table border=\"1\" class=\"dataframe\">\n",
              "  <thead>\n",
              "    <tr style=\"text-align: right;\">\n",
              "      <th>polviews</th>\n",
              "      <th>Conservative</th>\n",
              "      <th>Extremely conservative</th>\n",
              "      <th>Extremely liberal</th>\n",
              "      <th>Liberal</th>\n",
              "      <th>Moderate</th>\n",
              "      <th>Slightly conservative</th>\n",
              "      <th>Slightly liberal</th>\n",
              "    </tr>\n",
              "    <tr>\n",
              "      <th>year</th>\n",
              "      <th></th>\n",
              "      <th></th>\n",
              "      <th></th>\n",
              "      <th></th>\n",
              "      <th></th>\n",
              "      <th></th>\n",
              "      <th></th>\n",
              "    </tr>\n",
              "  </thead>\n",
              "  <tbody>\n",
              "    <tr>\n",
              "      <th>1974</th>\n",
              "      <td>0.127915</td>\n",
              "      <td>0.021201</td>\n",
              "      <td>0.021908</td>\n",
              "      <td>0.142049</td>\n",
              "      <td>0.380212</td>\n",
              "      <td>0.157597</td>\n",
              "      <td>0.149117</td>\n",
              "    </tr>\n",
              "    <tr>\n",
              "      <th>1975</th>\n",
              "      <td>0.115880</td>\n",
              "      <td>0.032189</td>\n",
              "      <td>0.040057</td>\n",
              "      <td>0.131617</td>\n",
              "      <td>0.386266</td>\n",
              "      <td>0.145923</td>\n",
              "      <td>0.148069</td>\n",
              "    </tr>\n",
              "    <tr>\n",
              "      <th>1976</th>\n",
              "      <td>0.145378</td>\n",
              "      <td>0.023994</td>\n",
              "      <td>0.021877</td>\n",
              "      <td>0.139732</td>\n",
              "      <td>0.398024</td>\n",
              "      <td>0.147495</td>\n",
              "      <td>0.123500</td>\n",
              "    </tr>\n",
              "    <tr>\n",
              "      <th>1977</th>\n",
              "      <td>0.111186</td>\n",
              "      <td>0.028475</td>\n",
              "      <td>0.025085</td>\n",
              "      <td>0.122712</td>\n",
              "      <td>0.402712</td>\n",
              "      <td>0.164746</td>\n",
              "      <td>0.145085</td>\n",
              "    </tr>\n",
              "    <tr>\n",
              "      <th>1978</th>\n",
              "      <td>0.128788</td>\n",
              "      <td>0.017218</td>\n",
              "      <td>0.014463</td>\n",
              "      <td>0.096419</td>\n",
              "      <td>0.384986</td>\n",
              "      <td>0.182507</td>\n",
              "      <td>0.175620</td>\n",
              "    </tr>\n",
              "  </tbody>\n",
              "</table>\n",
              "</div>"
            ],
            "text/plain": [
              "polviews  Conservative  ...  Slightly liberal\n",
              "year                    ...                  \n",
              "1974          0.127915  ...          0.149117\n",
              "1975          0.115880  ...          0.148069\n",
              "1976          0.145378  ...          0.123500\n",
              "1977          0.111186  ...          0.145085\n",
              "1978          0.128788  ...          0.175620\n",
              "\n",
              "[5 rows x 7 columns]"
            ]
          },
          "metadata": {
            "tags": []
          },
          "execution_count": 64
        }
      ]
    },
    {
      "cell_type": "markdown",
      "metadata": {
        "id": "0U-ukPJl7weV",
        "colab_type": "text"
      },
      "source": [
        "We are almost ready to plot the results, but first we need some colors."
      ]
    },
    {
      "cell_type": "markdown",
      "metadata": {
        "id": "R1Iew4C87weW",
        "colab_type": "text"
      },
      "source": [
        "## Color palettes\n",
        "\n",
        "Seaborn provides a variety of color palettes,  [which you can read about here](https://seaborn.pydata.org/tutorial/color_palettes.html).\n",
        "\n",
        "To represent political views, I'll use a diverging palette from blue to red."
      ]
    },
    {
      "cell_type": "code",
      "metadata": {
        "id": "KYaag8xe7weW",
        "colab_type": "code",
        "colab": {
          "base_uri": "https://localhost:8080/",
          "height": 89
        },
        "outputId": "a0e39442-baad-41f8-bb44-1bf7dc02619c"
      },
      "source": [
        "palette = sns.color_palette('RdBu_r', 7)\n",
        "sns.palplot(palette)"
      ],
      "execution_count": 65,
      "outputs": [
        {
          "output_type": "display_data",
          "data": {
            "image/png": "[encoded data removed]",
            "text/plain": [
              "<Figure size 504x72 with 1 Axes>"
            ]
          },
          "metadata": {
            "tags": []
          }
        }
      ]
    },
    {
      "cell_type": "markdown",
      "metadata": {
        "id": "1kSMmNdr7weZ",
        "colab_type": "text"
      },
      "source": [
        "The middle color is white, which won't work when we plot it, so I will replace it with a purple color from another palette."
      ]
    },
    {
      "cell_type": "code",
      "metadata": {
        "id": "jfbff9vE7wea",
        "colab_type": "code",
        "colab": {
          "base_uri": "https://localhost:8080/",
          "height": 89
        },
        "outputId": "b7e34b68-d9ff-4ac5-9663-a16dc9c8247f"
      },
      "source": [
        "muted = sns.color_palette('muted', 7)\n",
        "purple = muted[4]\n",
        "sns.palplot(muted)"
      ],
      "execution_count": 66,
      "outputs": [
        {
          "output_type": "display_data",
          "data": {
            "image/png": "[encoded data removed]",
            "text/plain": [
              "<Figure size 504x72 with 1 Axes>"
            ]
          },
          "metadata": {
            "tags": []
          }
        }
      ]
    },
    {
      "cell_type": "markdown",
      "metadata": {
        "id": "p01DEpaH7wec",
        "colab_type": "text"
      },
      "source": [
        "Here's the modified diverging palette  with purple in the middle."
      ]
    },
    {
      "cell_type": "code",
      "metadata": {
        "id": "yGLRD71l7wed",
        "colab_type": "code",
        "colab": {
          "base_uri": "https://localhost:8080/",
          "height": 89
        },
        "outputId": "92876820-1418-4d26-b444-8cc76736838d"
      },
      "source": [
        "palette[3] = purple\n",
        "sns.palplot(palette)"
      ],
      "execution_count": 67,
      "outputs": [
        {
          "output_type": "display_data",
          "data": {
            "image/png": "[encoded data removed]",
            "text/plain": [
              "<Figure size 504x72 with 1 Axes>"
            ]
          },
          "metadata": {
            "tags": []
          }
        }
      ]
    },
    {
      "cell_type": "markdown",
      "metadata": {
        "id": "voad64jU7weg",
        "colab_type": "text"
      },
      "source": [
        "Now I'll make a \"color map\", which is a dictionary that maps from the responses to the corresponding colors."
      ]
    },
    {
      "cell_type": "code",
      "metadata": {
        "id": "2aw8s02X7weh",
        "colab_type": "code",
        "colab": {}
      },
      "source": [
        "columns = ['Extremely liberal', \n",
        "           'Liberal', \n",
        "           'Slightly liberal', \n",
        "           'Moderate', \n",
        "           'Slightly conservative', \n",
        "           'Conservative',\n",
        "           'Extremely conservative']"
      ],
      "execution_count": 0,
      "outputs": []
    },
    {
      "cell_type": "code",
      "metadata": {
        "id": "-KFn2C237wej",
        "colab_type": "code",
        "colab": {
          "base_uri": "https://localhost:8080/",
          "height": 134
        },
        "outputId": "5ee5ee13-ed99-4fff-e78c-6d5f3101559c"
      },
      "source": [
        "\n",
        "color_map = dict(zip(columns, palette))\n",
        "\n",
        "for key, value in color_map.items():\n",
        "    print(key, value)"
      ],
      "execution_count": 69,
      "outputs": [
        {
          "output_type": "stream",
          "text": [
            "Extremely liberal (0.16339869281045752, 0.4449826989619377, 0.6975009611687812)\n",
            "Liberal (0.4206843521722413, 0.6764321414840445, 0.8186851211072664)\n",
            "Slightly liberal (0.7614763552479815, 0.8685121107266436, 0.9245674740484429)\n",
            "Moderate (0.5843137254901961, 0.4235294117647059, 0.7058823529411765)\n",
            "Slightly conservative (0.9824682814302192, 0.8006920415224915, 0.7061130334486739)\n",
            "Conservative (0.8945790080738178, 0.5038062283737026, 0.39976931949250294)\n",
            "Extremely conservative (0.7284890426758939, 0.15501730103806227, 0.1973856209150327)\n"
          ],
          "name": "stdout"
        }
      ]
    },
    {
      "cell_type": "markdown",
      "metadata": {
        "id": "TgXQ0KP87wel",
        "colab_type": "text"
      },
      "source": [
        "## Plotting\n",
        "\n",
        "To plot the results, I use the following function, which takes a `DataFrame` and plots each column using `plot_series_lowess`."
      ]
    },
    {
      "cell_type": "code",
      "metadata": {
        "id": "cvcdYNEX7wem",
        "colab_type": "code",
        "colab": {}
      },
      "source": [
        "def plot_columns_lowess(table, columns, colors):\n",
        "    \"\"\"Plot the columns in a DataFrame.\n",
        "    \n",
        "    table: DataFrame with a cross tabulation\n",
        "    columns: list of column names, in the desired order\n",
        "    colors: mapping from column names to colors\n",
        "    \"\"\"\n",
        "    for col in columns:\n",
        "        series = table[col]\n",
        "        plot_series_lowess(series, colors[col])"
      ],
      "execution_count": 0,
      "outputs": []
    },
    {
      "cell_type": "markdown",
      "metadata": {
        "id": "ALRNRdU-7weo",
        "colab_type": "text"
      },
      "source": [
        "The following function sets the position of the figure legend."
      ]
    },
    {
      "cell_type": "code",
      "metadata": {
        "id": "uEATNFcw7wep",
        "colab_type": "code",
        "colab": {}
      },
      "source": [
        "def anchor_legend(x, y):\n",
        "    \"\"\"Place the upper left corner of the legend box.\n",
        "    \n",
        "    x: x coordinate\n",
        "    y: y coordinate\n",
        "    \"\"\"\n",
        "    plt.legend(bbox_to_anchor=(x, y), loc='upper left', ncol=1)"
      ],
      "execution_count": 0,
      "outputs": []
    },
    {
      "cell_type": "markdown",
      "metadata": {
        "id": "E1uo43G77wer",
        "colab_type": "text"
      },
      "source": [
        "Here are the 7 categories plotted as a function of time."
      ]
    },
    {
      "cell_type": "code",
      "metadata": {
        "scrolled": true,
        "id": "b6xtxvY-7wer",
        "colab_type": "code",
        "colab": {
          "base_uri": "https://localhost:8080/",
          "height": 297
        },
        "outputId": "b7625b0d-c91a-4567-c74b-e6f76f68152a"
      },
      "source": [
        "plot_columns_lowess(xtab_norm, columns, color_map)\n",
        "decorate(xlabel='Year',\n",
        "         ylabel='Proportion',\n",
        "         title='Fraction of people with each political view',\n",
        "         xlim=[1972, 2020])\n",
        "\n",
        "anchor_legend(1.02, 1.02)"
      ],
      "execution_count": 72,
      "outputs": [
        {
          "output_type": "display_data",
          "data": {
            "image/png": "[encoded data removed]",
            "text/plain": [
              "<Figure size 432x288 with 1 Axes>"
            ]
          },
          "metadata": {
            "tags": []
          }
        }
      ]
    },
    {
      "cell_type": "markdown",
      "metadata": {
        "id": "oYhGzKC07wet",
        "colab_type": "text"
      },
      "source": [
        "This way of looking at the results suggests that changes in political alignment during this period have generally been slow and small.\n",
        "\n",
        "The fraction of self-described moderates has not changed substantially.\n",
        "\n",
        "The fraction of conservatives increased, but seems to be decreasing now; the number of liberals seems to be increasing.\n",
        "\n",
        "The fraction of people at the extremes has increased, but it is hard to see clearly in this figure.\n",
        "\n",
        "We can get a better view by plotting just the extremes."
      ]
    },
    {
      "cell_type": "code",
      "metadata": {
        "id": "Wl6bmghC7wet",
        "colab_type": "code",
        "colab": {
          "base_uri": "https://localhost:8080/",
          "height": 297
        },
        "outputId": "bfc9e4dd-a994-4b51-f1a5-7ac1bd88d233"
      },
      "source": [
        "columns2 = ['Extremely liberal', 'Extremely conservative']\n",
        "\n",
        "plot_columns_lowess(xtab_norm, columns2, color_map)\n",
        "decorate(xlabel='Year',\n",
        "         ylabel='Proportion',\n",
        "         title='Fraction of people with extreme political views',\n",
        "         xlim=[1970, 2020])\n",
        "\n",
        "anchor_legend(1.02, 1.02)"
      ],
      "execution_count": 73,
      "outputs": [
        {
          "output_type": "display_data",
          "data": {
            "image/png": "[encoded data removed]",
            "text/plain": [
              "<Figure size 432x288 with 1 Axes>"
            ]
          },
          "metadata": {
            "tags": []
          }
        }
      ]
    },
    {
      "cell_type": "markdown",
      "metadata": {
        "id": "g-EXoOdu7wev",
        "colab_type": "text"
      },
      "source": [
        "This figure shows that the fraction of people who describe themselves as \"extreme\" has increased from about 2.5% to about 4%.\n",
        "\n",
        "In relative terms, that's a big increase.  But in absolute terms these tails of the distribution are still small."
      ]
    },
    {
      "cell_type": "markdown",
      "metadata": {
        "id": "4vwDtOoi7wev",
        "colab_type": "text"
      },
      "source": [
        "**Exercise:** Let's do a similar analysis with `partyid`, which encodes responses to the question:\n",
        "\n",
        ">Generally speaking, do you usually think of yourself as a Republican, Democrat, Independent, or what?\n",
        "\n",
        "The valid responses are:\n",
        "\n",
        "```\n",
        "0\tStrong democrat\n",
        "1\tNot str democrat\n",
        "2\tInd,near dem\n",
        "3\tIndependent\n",
        "4\tInd,near rep\n",
        "5\tNot str republican\n",
        "6\tStrong republican\n",
        "7\tOther party\n",
        "```\n",
        "\n",
        "You can [read the codebook for `partyid` here](https://gssdataexplorer.norc.org/projects/52787/variables/141/vshow).\n",
        "\n",
        "Here are the steps I suggest:\n",
        "\n",
        "1) If you have not already saved this notebook, you should do that first.  If you are running on Colab, select \"Save a copy in Drive\" from the File menu.\n",
        "\n",
        "2) Now, before you modify this notebook, make *another* copy and give it an appropriate name.\n",
        "\n",
        "3) Search and replace `polviews` with `partyid` (use \"Edit->Find and replace\").\n",
        "\n",
        "4) Run the notebook from the beginning and see what other changes you have to make.\n",
        "\n",
        "You will have to make changes in `d7` and `columns`.  Otherwise you might get a message like \n",
        "\n",
        "`TypeError: '<' not supported between instances of 'float' and 'str'`\n",
        "\n",
        "Also, you might have to drop \"Other party\" or change the color palette.\n",
        "\n",
        "And you should change the titles of the figures.\n",
        "\n",
        "\n",
        "What changes in party affiliation do you see over the last 50 years?  Are things going in the directions you expected?\n",
        "\n",
        "Write a headline (or a couple) that describe the most substantial changes you see."
      ]
    },
    {
      "cell_type": "code",
      "metadata": {
        "id": "lG_73NHG7wew",
        "colab_type": "code",
        "colab": {}
      },
      "source": [
        ""
      ],
      "execution_count": 0,
      "outputs": []
    }
  ]
}